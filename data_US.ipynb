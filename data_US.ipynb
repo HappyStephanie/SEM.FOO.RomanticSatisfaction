{
 "cells": [
  {
   "cell_type": "markdown",
   "id": "1f8f3a97",
   "metadata": {},
   "source": [
    "use cleaned data that created in the 5255 final project as the base"
   ]
  },
  {
   "cell_type": "code",
   "execution_count": 1,
   "id": "2c1e1063",
   "metadata": {},
   "outputs": [],
   "source": [
    "import pandas as pd\n",
    "import numpy as np\n",
    "import re"
   ]
  },
  {
   "cell_type": "markdown",
   "id": "188cc5c5",
   "metadata": {},
   "source": [
    "The cleaned data is got from the final project of 5255 (based on raw data, the most recent case is at Oct. 5, 2022), it excludes cases based on the filling time, age & did not in a relationship before"
   ]
  },
  {
   "cell_type": "code",
   "execution_count": 6,
   "id": "1e593f89",
   "metadata": {},
   "outputs": [],
   "source": [
    "# Load the cleaned data \n",
    "cleaned = pd.read_csv('us/cleaned_data.csv')"
   ]
  },
  {
   "cell_type": "markdown",
   "id": "206bebc6",
   "metadata": {},
   "source": [
    "Add a colunm called covid, the cases after March 2020 are marked 1, the cases before it are marked 0"
   ]
  },
  {
   "cell_type": "code",
   "execution_count": 7,
   "id": "c90773b6",
   "metadata": {},
   "outputs": [],
   "source": [
    "# Convert 'StartDate' to datetime if not already\n",
    "cleaned['StartDate'] = pd.to_datetime(cleaned['StartDate'])\n",
    "\n",
    "# Create 'covid' column\n",
    "cleaned['covid'] = cleaned['StartDate'].apply(lambda x: 1 if x >= pd.to_datetime('2020-03-01') else 0)\n",
    "\n",
    "# save it to .csv file (for checking the data)\n",
    "cleaned.to_csv('us/cleaned2.csv', index=False)"
   ]
  },
  {
   "cell_type": "markdown",
   "id": "70f4a1d1",
   "metadata": {},
   "source": [
    "X: PCS,PSF,PSM\n",
    "indicators for them:\n",
    "S1-4 (Q77_1,Q77_2,Q77_3,Q77_4),\n",
    "F1-10 (Q50_1_1,Q50_1_3,Q50_1_4,Q50_1_6,Q50_1_7,Q50_1_9,Q50_1_10,Q50_1_11,Q50_1_13,Q50_1_14), \n",
    "M1-10 (Q50_2_1,Q50_2_3,Q50_2_4,Q50_2_6,Q50_2_7,Q50_2_9,Q50_2_10,Q50_2_11,Q50_2_13,Q50_2_14)\n",
    "\n",
    "Y: RRS\n",
    "indicators for it:R1-5 (Q76_1,Q76_2,RRS3,Q76_4,Q76_5)\n",
    "\n",
    "M: AA,including secure(Q20_1), fearful(Q20_2), preoccupied(Q20_3), dimissing(Q20_4) \n",
    "\n",
    "covariates: rela_sta(Q6),age(Q51),gender(1),SES(Q69),duration(Q9),covid(?)"
   ]
  },
  {
   "cell_type": "code",
   "execution_count": 8,
   "id": "ece64cb3",
   "metadata": {},
   "outputs": [],
   "source": [
    "# Load the cleaned data \n",
    "cleaned2 = pd.read_csv('us/cleaned2.csv')\n",
    "\n",
    "# Create a new DataFrame called 'ssea' with some columns from the cleaned data\n",
    "ssea = cleaned2[['Q77_1', 'Q77_2', 'Q77_3', 'Q77_4', 'Q50#1_1', 'Q50#1_3', 'Q50#1_4', 'Q50#1_6', 'Q50#1_7', \n",
    "                'Q50#1_9', 'Q50#1_10', 'Q50#1_11', 'Q50#1_13', 'Q50#1_14', 'Q50#2_1', 'Q50#2_3', 'Q50#2_4', \n",
    "                'Q50#2_6', 'Q50#2_7', 'Q50#2_9', 'Q50#2_10', 'Q50#2_11', 'Q50#2_13', 'Q50#2_14', 'Q76_1', 'Q76_2', \n",
    "                'Q76_3', 'Q76_4', 'Q76_5', 'Q20_1', 'Q20_2', 'Q20_3', 'Q20_4', 'Q6', 'Q51', '1', 'Q69', 'Q9', 'covid']]\n",
    "\n",
    "# Rename the columns to the variable names\n",
    "ssea.columns = ['S1', 'S2', 'S3', 'S4', 'F1', 'F2', 'F3', 'F4', 'F5', 'F6', 'F7', 'F8', 'F9', 'F10', 'M1', \n",
    "                'M2', 'M3', 'M4', 'M5', 'M6', 'M7', 'M8', 'M9', 'M10', 'R1', 'R2', 'R3', 'R4', 'R5', \n",
    "                'sec', 'fea', 'pre', 'dis', 'rela_sta', 'age', 'gender', 'SES', 'duration', 'covid']\n",
    "\n",
    "# Output the first few rows of 'ssea' to make sure it looks correct\n",
    "print(ssea.head())\n"
   ]
  },
  {
   "cell_type": "code",
   "execution_count": 9,
   "id": "c096863b",
   "metadata": {},
   "outputs": [],
   "source": [
    "\n",
    "\n",
    "# save it to .csv file (for checking the data)\n",
    "ssea.to_csv('us/ssea_without_deleting.csv', index=False)"
   ]
  },
  {
   "cell_type": "markdown",
   "id": "21d21354",
   "metadata": {},
   "source": [
    "delete rows that have missing value in certain columns"
   ]
  },
  {
   "cell_type": "code",
   "execution_count": 10,
   "id": "f20930f1",
   "metadata": {},
   "outputs": [],
   "source": [
    "# Load the data \n",
    "ssea2 = pd.read_csv('us/ssea_without_deleting.csv')\n",
    "\n",
    "\n",
    "\n",
    "# Drop the rows where all elements are missing.\n",
    "ssea2 = ssea2.dropna(how='all')\n",
    "\n",
    "# Select the first 24 columns and the last 4 columns\n",
    "first_24_columns = ssea2.iloc[:, :24]\n",
    "selected_columns = ssea2.iloc[:, 29:33]\n",
    "\n",
    "# Drop the rows where all elements are missing in the first 24 columns and the last 4 columns.\n",
    "ssea2 = ssea2.loc[~first_24_columns.isnull().all(axis=1) & ~selected_columns.isnull().all(axis=1)]\n",
    "\n",
    "\n",
    "\n",
    "# Save the cleaned data to a new .csv file\n",
    "ssea2.to_csv('us/ssea_dropna.csv', index=False)\n"
   ]
  },
  {
   "cell_type": "markdown",
   "id": "1e21eaf1",
   "metadata": {},
   "source": [
    "manage rela_sta"
   ]
  },
  {
   "cell_type": "code",
   "execution_count": 11,
   "id": "c22e070e",
   "metadata": {},
   "outputs": [],
   "source": [
    "# Load the data \n",
    "ssea3 = pd.read_csv('us/ssea_dropna.csv')\n",
    "\n",
    "# change 'rela_sta' to make it only have values 0 and 1\n",
    "\n",
    "def relationship_transform(value):\n",
    "    if pd.isna(value):\n",
    "        return np.nan\n",
    "    else:\n",
    "        value_set = set(map(int, value.split(',')))\n",
    "        if value_set.intersection({2, 4, 5, 7}):\n",
    "            return 1\n",
    "        else:\n",
    "            return 0\n",
    "\n",
    "# Create 'rela_sta' based on the 'Q6' column in cleaned_data\n",
    "ssea3['rela_sta'] = ssea3['rela_sta'].apply(relationship_transform)\n",
    "\n",
    "\n",
    "# Save the cleaned data to a new .csv file\n",
    "ssea3.to_csv('us/ssea_rela.csv', index=False)"
   ]
  },
  {
   "cell_type": "markdown",
   "id": "2a5fcd3f",
   "metadata": {},
   "source": [
    "manage gender"
   ]
  },
  {
   "cell_type": "code",
   "execution_count": 12,
   "id": "14e8ef93",
   "metadata": {},
   "outputs": [],
   "source": [
    "# Load the data \n",
    "ssea4 = pd.read_csv('us/ssea_rela.csv')\n",
    "\n",
    "# Create a new column 'gender_transformed' by combining the certain categories into 1\n",
    "ssea4['gender_trans'] = ssea4['gender'].apply(lambda x: 3 if x in [3, 4, 5, 6] else x if x in [1, 2] else np.nan)\n",
    "\n",
    "# Create dummy variables for 'gender'\n",
    "dummies = pd.get_dummies(ssea4['gender_trans'], prefix='gender',drop_first=True)\n",
    "\n",
    "# Concatenate the original DataFrame and the dummy DataFrame along columns\n",
    "ssea4 = pd.concat([ssea4, dummies], axis=1)\n",
    "\n",
    "# Save the cleaned data to a new .csv file\n",
    "ssea4.to_csv('us/ssea_gender.csv', index=False)"
   ]
  },
  {
   "cell_type": "code",
   "execution_count": 13,
   "id": "a06bfd03",
   "metadata": {},
   "outputs": [],
   "source": [
    "# after checking gender and it's dummy coding varibales, delating them\n",
    "ssea4 = ssea4.drop(['gender', 'gender_trans'], axis=1)\n",
    "\n",
    "# Save the cleaned data to a new .csv file\n",
    "ssea4.to_csv('us/ssea_gender2.csv', index=False)"
   ]
  },
  {
   "cell_type": "markdown",
   "id": "de9dd13e",
   "metadata": {},
   "source": [
    "manage duration: manualy (others are normal cleaning, except one: change one sentence to 13, the last 4th). Build ssea_duration.csv"
   ]
  },
  {
   "cell_type": "code",
   "execution_count": 32,
   "id": "43d868cb",
   "metadata": {},
   "outputs": [],
   "source": [
    "# load the data\n",
    "ssea5 = pd.read_csv('us/ssea_duration.csv')"
   ]
  },
  {
   "cell_type": "code",
   "execution_count": 33,
   "id": "0dca9a57",
   "metadata": {},
   "outputs": [],
   "source": [
    "from sklearn.preprocessing import StandardScaler, MinMaxScaler\n",
    "\n",
    "# Create a list of columns to scale\n",
    "columns_to_scale = ['S1', 'S2', 'S3', 'S4', 'F1', 'F2', 'F3', 'F4', 'F5', 'F6', 'F7', 'F8', 'F9', 'F10', 'M1', 'M2', 'M3', 'M4', 'M5', 'M6', 'M7', 'M8', 'M9', 'M10','sec','fea','pre','dis',\n",
    "'age','SES','duration']\n",
    "\n",
    "# Copy your dataframe\n",
    "ssea_scaled = ssea5.copy()\n",
    "\n",
    "# Standardization\n",
    "scaler = StandardScaler()\n",
    "ssea_scaled[columns_to_scale] = scaler.fit_transform(ssea5[columns_to_scale])\n"
   ]
  },
  {
   "cell_type": "code",
   "execution_count": 34,
   "id": "34122980",
   "metadata": {},
   "outputs": [],
   "source": [
    "ssea_scaled.to_csv('us/ssea_scaled.csv', index=False)"
   ]
  },
  {
   "cell_type": "markdown",
   "id": "4a20c866",
   "metadata": {},
   "source": [
    "At first, I found the numbers of the scaled one do not same to the previous version. I finally found that it is because the file duration that I copied from the backup folder contain -999."
   ]
  },
  {
   "cell_type": "code",
   "execution_count": 35,
   "id": "3a890004",
   "metadata": {},
   "outputs": [],
   "source": [
    "# load the data\n",
    "ssea6 = pd.read_csv('us/ssea_scaled.csv')"
   ]
  },
  {
   "cell_type": "code",
   "execution_count": 36,
   "id": "db945c18",
   "metadata": {},
   "outputs": [],
   "source": [
    "# Now, replace NaN back to -999, as it's required for the Mplus model\n",
    "ssea6 = ssea6.fillna(-999)"
   ]
  },
  {
   "cell_type": "code",
   "execution_count": 37,
   "id": "582cecc2",
   "metadata": {},
   "outputs": [],
   "source": [
    "# Save the cleaned data to a new .dat file, remove the first row (header)\n",
    "ssea6.to_csv('us/ssea.dat', sep=' ', index=False, header=False)"
   ]
  },
  {
   "cell_type": "code",
   "execution_count": 38,
   "id": "3bfcd74c",
   "metadata": {},
   "outputs": [],
   "source": [
    "import pandas as pd\n",
    "\n",
    "# Load your data\n",
    "ssea7 = pd.read_csv('us/ssea_scaled.csv')\n",
    "\n",
    "# Define the columns that belong to each scale\n",
    "pcs_cols = ['S4', 'S1', 'S2', 'S3']\n",
    "rrs_cols = ['R5', 'R1', 'R2', 'R3', 'R4']\n",
    "psf_cols = ['F1', 'F2', 'F3', 'F4', 'F5', 'F6', 'F7', 'F8', 'F9', 'F10']\n",
    "psm_cols = ['M1', 'M2', 'M3', 'M4', 'M5', 'M6', 'M7', 'M8', 'M9', 'M10']\n",
    "\n",
    "# Compute the mean for each scale\n",
    "ssea7['PCS'] = ssea7[pcs_cols].mean(axis=1)\n",
    "ssea7['RRS'] = ssea7[rrs_cols].mean(axis=1)\n",
    "ssea7['PSF'] = ssea7[psf_cols].mean(axis=1)\n",
    "ssea7['PSM'] = ssea7[psm_cols].mean(axis=1)\n",
    "\n",
    "# Save the new DataFrame to a new .csv file\n",
    "ssea7.to_csv('us/ssea_means.csv', index=False)\n",
    "\n"
   ]
  },
  {
   "cell_type": "code",
   "execution_count": 39,
   "id": "8544ce15",
   "metadata": {},
   "outputs": [],
   "source": [
    "# load the data\n",
    "ssea8 = pd.read_csv('us/ssea_means.csv')\n",
    "\n",
    "# Now, replace NaN back to -999, as it's required for the Mplus model\n",
    "ssea8 = ssea8.fillna(-999)\n",
    "\n",
    "# Save the cleaned data to a new .dat file, remove the first row (header)\n",
    "ssea8.to_csv('us/ssea_mean.dat', sep=' ', index=False, header=False)"
   ]
  },
  {
   "cell_type": "code",
   "execution_count": 3,
   "id": "acdebc47",
   "metadata": {},
   "outputs": [],
   "source": [
    "# scale the RRS\n",
    "# load the data\n",
    "ssea9 = pd.read_csv('us/ssea_scaled.csv')\n",
    "\n",
    "# Create a list of columns to scale\n",
    "columns_to_scale = ['R1', 'R2', 'R3', 'R4', 'R5']\n",
    "\n",
    "# Copy your dataframe\n",
    "ssea_scaled2 = ssea9.copy()\n",
    "\n",
    "# Standardization\n",
    "scaler = StandardScaler()\n",
    "ssea_scaled2[columns_to_scale] = scaler.fit_transform(ssea9[columns_to_scale])"
   ]
  },
  {
   "cell_type": "code",
   "execution_count": 4,
   "id": "6957a1e2",
   "metadata": {},
   "outputs": [],
   "source": [
    "ssea_scaled2.to_csv('us/ssea_RRSscaled.csv', index=False)"
   ]
  },
  {
   "cell_type": "code",
   "execution_count": 5,
   "id": "3ece55d4",
   "metadata": {},
   "outputs": [],
   "source": [
    "# load the data\n",
    "ssea10 = pd.read_csv('us/ssea_RRSscaled.csv')\n",
    "\n",
    "# Now, replace NaN back to -999, as it's required for the Mplus model\n",
    "ssea10 = ssea10.fillna(-999)\n",
    "\n",
    "# Save the cleaned data to a new .dat file, remove the first row (header)\n",
    "ssea10.to_csv('us/ssea_RRSscaled.dat', sep=' ', index=False, header=False)"
   ]
  },
  {
   "cell_type": "markdown",
   "id": "7aad758c",
   "metadata": {},
   "source": [
    "Do not scale, create the unscaled data"
   ]
  },
  {
   "cell_type": "code",
   "execution_count": 6,
   "id": "9530872d",
   "metadata": {},
   "outputs": [],
   "source": [
    "# load the data\n",
    "ssea11 = pd.read_csv('us/ssea_duration.csv')\n",
    "# Now, replace NaN back to -999, as it's required for the Mplus model\n",
    "ssea11 = ssea11.fillna(-999)\n",
    "\n",
    "# Save the cleaned data to a new .dat file, remove the first row (header)\n",
    "ssea11.to_csv('us/ssea_unscaled.dat', sep=' ', index=False, header=False)"
   ]
  },
  {
   "cell_type": "markdown",
   "id": "d08f2be2",
   "metadata": {},
   "source": [
    "MIN MAX scale"
   ]
  },
  {
   "cell_type": "code",
   "execution_count": 9,
   "id": "4796f137",
   "metadata": {},
   "outputs": [],
   "source": [
    "# load the data\n",
    "ssea12 = pd.read_csv('us/ssea_duration.csv')"
   ]
  },
  {
   "cell_type": "code",
   "execution_count": 10,
   "id": "379fafe2",
   "metadata": {},
   "outputs": [],
   "source": [
    "from sklearn.preprocessing import MinMaxScaler\n",
    "\n",
    "# Create a list of columns to scale\n",
    "columns_to_scale = ['S1', 'S2', 'S3', 'S4', 'F1', 'F2', 'F3', 'F4', 'F5', 'F6', 'F7', 'F8', 'F9', 'F10', 'M1', 'M2', 'M3', \n",
    "                    'M4', 'M5', 'M6', 'M7', 'M8', 'M9', 'M10','R1', 'R2', 'R3', 'R4','R5','sec','fea','pre','dis'\n",
    ",'age','SES','duration']\n",
    "\n",
    "# Copy your dataframe\n",
    "ssea_scaled = ssea12.copy()\n",
    "\n",
    "# Min-Max Scaling\n",
    "scaler = MinMaxScaler()\n",
    "ssea_scaled[columns_to_scale] = scaler.fit_transform(ssea12[columns_to_scale])\n",
    "\n",
    "# save\n",
    "ssea_scaled.to_csv('us/ssea_minmax.csv', index=False)"
   ]
  },
  {
   "cell_type": "code",
   "execution_count": 11,
   "id": "ea431213",
   "metadata": {},
   "outputs": [],
   "source": [
    "# load the data\n",
    "ssea13 = pd.read_csv('us/ssea_minmax.csv')\n",
    "# Now, replace NaN back to -999, as it's required for the Mplus model\n",
    "ssea13 = ssea13.fillna(-999)\n",
    "\n",
    "# Save the cleaned data to a new .dat file, remove the first row (header)\n",
    "ssea13.to_csv('us/ssea_minmax.dat', sep=' ', index=False, header=False)"
   ]
  }
 ],
 "metadata": {
  "kernelspec": {
   "display_name": "Python 3 (ipykernel)",
   "language": "python",
   "name": "python3"
  },
  "language_info": {
   "codemirror_mode": {
    "name": "ipython",
    "version": 3
   },
   "file_extension": ".py",
   "mimetype": "text/x-python",
   "name": "python",
   "nbconvert_exporter": "python",
   "pygments_lexer": "ipython3",
   "version": "3.10.9"
  }
 },
 "nbformat": 4,
 "nbformat_minor": 5
}
